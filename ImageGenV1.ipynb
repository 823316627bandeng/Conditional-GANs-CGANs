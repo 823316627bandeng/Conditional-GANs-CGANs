{
  "nbformat": 4,
  "nbformat_minor": 0,
  "metadata": {
    "colab": {
      "name": "GAnsandbox_(1)_(1).ipynb",
      "provenance": []
    },
    "kernelspec": {
      "name": "python3",
      "display_name": "Python 3"
    },
    "accelerator": "GPU"
  },
  "cells": [
    {
      "cell_type": "code",
      "metadata": {
        "id": "RpqSdhNKM45T"
      },
      "source": [
        "\r\n",
        "import tensorflow as tf\r\n",
        "import matplotlib.pyplot as plt\r\n",
        "from IPython.display import display\r\n",
        "from sklearn.model_selection import train_test_split\r\n",
        "from sklearn.utils import shuffle\r\n",
        "import collections\r\n",
        "import random\r\n",
        "import re\r\n",
        "import numpy as np\r\n",
        "import os\r\n",
        "import time\r\n",
        "import json\r\n",
        "from glob import glob\r\n",
        "from PIL import Image\r\n",
        "import pickle"
      ],
      "execution_count": 1,
      "outputs": []
    },
    {
      "cell_type": "code",
      "metadata": {
        "id": "yuSoVRRYj3f4",
        "colab": {
          "base_uri": "https://localhost:8080/"
        },
        "outputId": "011f9772-b4ac-43b8-cb7c-4d0d8373035f"
      },
      "source": [
        "from keras.datasets import fashion_mnist\r\n",
        "\r\n",
        "(X_train,y_train),(X_test,y_test) = fashion_mnist.load_data()"
      ],
      "execution_count": 2,
      "outputs": [
        {
          "output_type": "stream",
          "text": [
            "Downloading data from https://storage.googleapis.com/tensorflow/tf-keras-datasets/train-labels-idx1-ubyte.gz\n",
            "32768/29515 [=================================] - 0s 0us/step\n",
            "Downloading data from https://storage.googleapis.com/tensorflow/tf-keras-datasets/train-images-idx3-ubyte.gz\n",
            "26427392/26421880 [==============================] - 0s 0us/step\n",
            "Downloading data from https://storage.googleapis.com/tensorflow/tf-keras-datasets/t10k-labels-idx1-ubyte.gz\n",
            "8192/5148 [===============================================] - 0s 0us/step\n",
            "Downloading data from https://storage.googleapis.com/tensorflow/tf-keras-datasets/t10k-images-idx3-ubyte.gz\n",
            "4423680/4422102 [==============================] - 0s 0us/step\n"
          ],
          "name": "stdout"
        }
      ]
    },
    {
      "cell_type": "code",
      "metadata": {
        "id": "tO1ft_hNN3ZT"
      },
      "source": [
        "WIDTH, HEIGHT = 28, 28\r\n",
        "num_classes = 10\r\n",
        "img_channel = 1\r\n",
        "img_shape = (WIDTH, HEIGHT, img_channel)\r\n",
        "noise_dim = 100"
      ],
      "execution_count": 3,
      "outputs": []
    },
    {
      "cell_type": "code",
      "metadata": {
        "id": "IqaWP4dRN3b_"
      },
      "source": [
        ""
      ],
      "execution_count": 3,
      "outputs": []
    },
    {
      "cell_type": "code",
      "metadata": {
        "id": "tOUcc1baN3eZ"
      },
      "source": [
        "def prep_pixels(train, test):\r\n",
        "\t# convert from integers to floats\r\n",
        "\ttrain_norm = train.astype('float32')\r\n",
        "\ttest_norm = test.astype('float32')\r\n",
        "\t# normalize to range 0-1\r\n",
        "\ttrain_norm = train_norm / 255.0\r\n",
        "\ttest_norm = test_norm / 255.0\r\n",
        "\t# return normalized images\r\n",
        "\treturn train_norm, test_norm"
      ],
      "execution_count": 4,
      "outputs": []
    },
    {
      "cell_type": "code",
      "metadata": {
        "id": "iDa4l3TzN3g1"
      },
      "source": [
        "X_train, X_test = prep_pixels(X_train, X_test)"
      ],
      "execution_count": 5,
      "outputs": []
    },
    {
      "cell_type": "code",
      "metadata": {
        "id": "aI0fScDEN3jb",
        "colab": {
          "base_uri": "https://localhost:8080/"
        },
        "outputId": "2dcc3343-823d-40bb-838b-8abcb1972628"
      },
      "source": [
        "X_train[1].shape"
      ],
      "execution_count": 6,
      "outputs": [
        {
          "output_type": "execute_result",
          "data": {
            "text/plain": [
              "(28, 28)"
            ]
          },
          "metadata": {
            "tags": []
          },
          "execution_count": 6
        }
      ]
    },
    {
      "cell_type": "code",
      "metadata": {
        "id": "nfWNE9w8N3l9"
      },
      "source": [
        ""
      ],
      "execution_count": 6,
      "outputs": []
    },
    {
      "cell_type": "code",
      "metadata": {
        "id": "WD_htf9eN3oU"
      },
      "source": [
        ""
      ],
      "execution_count": 6,
      "outputs": []
    },
    {
      "cell_type": "code",
      "metadata": {
        "id": "tEsRWM4yOHdC"
      },
      "source": [
        ""
      ],
      "execution_count": 6,
      "outputs": []
    },
    {
      "cell_type": "code",
      "metadata": {
        "id": "6rUArt0POHfz"
      },
      "source": [
        ""
      ],
      "execution_count": 6,
      "outputs": []
    },
    {
      "cell_type": "code",
      "metadata": {
        "id": "LryBvdJGddMD"
      },
      "source": [
        ""
      ],
      "execution_count": 6,
      "outputs": []
    },
    {
      "cell_type": "code",
      "metadata": {
        "id": "KtS6bk8anyeB"
      },
      "source": [
        ""
      ],
      "execution_count": 6,
      "outputs": []
    },
    {
      "cell_type": "code",
      "metadata": {
        "id": "tPFOFFxPnywo"
      },
      "source": [
        ""
      ],
      "execution_count": 6,
      "outputs": []
    },
    {
      "cell_type": "code",
      "metadata": {
        "id": "fYCYKpyunyzJ"
      },
      "source": [
        "def show_example(index):\r\n",
        "  print(decode_sequence([train_captions[index]]))\r\n",
        "  img=train_images[index]\r\n",
        "  img = img.reshape(64, 64)\r\n",
        "  plt.imshow(img)"
      ],
      "execution_count": 7,
      "outputs": []
    },
    {
      "cell_type": "code",
      "metadata": {
        "id": "k-XJNnKOny1d",
        "colab": {
          "base_uri": "https://localhost:8080/",
          "height": 272
        },
        "outputId": "c7ab469e-07b2-4750-e5f7-42f9aa827a9a"
      },
      "source": [
        "show_example(654)"
      ],
      "execution_count": 8,
      "outputs": [
        {
          "output_type": "error",
          "ename": "NameError",
          "evalue": "ignored",
          "traceback": [
            "\u001b[0;31m---------------------------------------------------------------------------\u001b[0m",
            "\u001b[0;31mNameError\u001b[0m                                 Traceback (most recent call last)",
            "\u001b[0;32m<ipython-input-8-71a475860292>\u001b[0m in \u001b[0;36m<module>\u001b[0;34m()\u001b[0m\n\u001b[0;32m----> 1\u001b[0;31m \u001b[0mshow_example\u001b[0m\u001b[0;34m(\u001b[0m\u001b[0;36m654\u001b[0m\u001b[0;34m)\u001b[0m\u001b[0;34m\u001b[0m\u001b[0;34m\u001b[0m\u001b[0m\n\u001b[0m",
            "\u001b[0;32m<ipython-input-7-08fbbf182289>\u001b[0m in \u001b[0;36mshow_example\u001b[0;34m(index)\u001b[0m\n\u001b[1;32m      1\u001b[0m \u001b[0;32mdef\u001b[0m \u001b[0mshow_example\u001b[0m\u001b[0;34m(\u001b[0m\u001b[0mindex\u001b[0m\u001b[0;34m)\u001b[0m\u001b[0;34m:\u001b[0m\u001b[0;34m\u001b[0m\u001b[0;34m\u001b[0m\u001b[0m\n\u001b[0;32m----> 2\u001b[0;31m   \u001b[0mprint\u001b[0m\u001b[0;34m(\u001b[0m\u001b[0mdecode_sequence\u001b[0m\u001b[0;34m(\u001b[0m\u001b[0;34m[\u001b[0m\u001b[0mtrain_captions\u001b[0m\u001b[0;34m[\u001b[0m\u001b[0mindex\u001b[0m\u001b[0;34m]\u001b[0m\u001b[0;34m]\u001b[0m\u001b[0;34m)\u001b[0m\u001b[0;34m)\u001b[0m\u001b[0;34m\u001b[0m\u001b[0;34m\u001b[0m\u001b[0m\n\u001b[0m\u001b[1;32m      3\u001b[0m   \u001b[0mimg\u001b[0m\u001b[0;34m=\u001b[0m\u001b[0mtrain_images\u001b[0m\u001b[0;34m[\u001b[0m\u001b[0mindex\u001b[0m\u001b[0;34m]\u001b[0m\u001b[0;34m\u001b[0m\u001b[0;34m\u001b[0m\u001b[0m\n\u001b[1;32m      4\u001b[0m   \u001b[0mimg\u001b[0m \u001b[0;34m=\u001b[0m \u001b[0mimg\u001b[0m\u001b[0;34m.\u001b[0m\u001b[0mreshape\u001b[0m\u001b[0;34m(\u001b[0m\u001b[0;36m64\u001b[0m\u001b[0;34m,\u001b[0m \u001b[0;36m64\u001b[0m\u001b[0;34m)\u001b[0m\u001b[0;34m\u001b[0m\u001b[0;34m\u001b[0m\u001b[0m\n\u001b[1;32m      5\u001b[0m   \u001b[0mplt\u001b[0m\u001b[0;34m.\u001b[0m\u001b[0mimshow\u001b[0m\u001b[0;34m(\u001b[0m\u001b[0mimg\u001b[0m\u001b[0;34m)\u001b[0m\u001b[0;34m\u001b[0m\u001b[0;34m\u001b[0m\u001b[0m\n",
            "\u001b[0;31mNameError\u001b[0m: name 'decode_sequence' is not defined"
          ]
        }
      ]
    },
    {
      "cell_type": "code",
      "metadata": {
        "id": "Di85F94qn74Q"
      },
      "source": [
        ""
      ],
      "execution_count": null,
      "outputs": []
    },
    {
      "cell_type": "code",
      "metadata": {
        "id": "4aSDwMZln76i"
      },
      "source": [
        ""
      ],
      "execution_count": 8,
      "outputs": []
    },
    {
      "cell_type": "code",
      "metadata": {
        "id": "e5L3o3k9n79x"
      },
      "source": [
        ""
      ],
      "execution_count": 8,
      "outputs": []
    },
    {
      "cell_type": "code",
      "metadata": {
        "id": "c0ptMCtln7_r"
      },
      "source": [
        ""
      ],
      "execution_count": 8,
      "outputs": []
    },
    {
      "cell_type": "code",
      "metadata": {
        "id": "lf9QPfHJ0nw0"
      },
      "source": [
        "from tensorflow.keras import layers\r\n",
        "from tensorflow.keras.models import Model"
      ],
      "execution_count": 9,
      "outputs": []
    },
    {
      "cell_type": "code",
      "metadata": {
        "id": "u6RrqkuYOHiP"
      },
      "source": [
        "def build_generator_model():\r\n",
        "    model = tf.keras.Sequential()\r\n",
        "\r\n",
        "    model.add(layers.Dense(7*7*256, use_bias=False,input_shape=(noise_dim,)))\r\n",
        "    model.add(layers.BatchNormalization())\r\n",
        "    model.add(layers.LeakyReLU())\r\n",
        "\r\n",
        "    model.add(layers.Reshape((7, 7, 256)))\r\n",
        "\r\n",
        "    model.add(layers.Conv2DTranspose(128, (1, 1), strides=(1, 1), padding='same', use_bias=False))\r\n",
        "    model.add(layers.BatchNormalization())\r\n",
        "    model.add(layers.LeakyReLU())\r\n",
        "\r\n",
        "    model.add(layers.Conv2DTranspose(64, (3, 3), strides=(2, 2), padding='same', use_bias=False))\r\n",
        "    model.add(layers.BatchNormalization())\r\n",
        "    model.add(layers.LeakyReLU())\r\n",
        "\r\n",
        "    model.add(layers.Conv2DTranspose(1, (5, 5), strides=(2, 2), padding='same', use_bias=False, activation='tanh'))\r\n",
        "\r\n",
        "    z = layers.Input(shape= (noise_dim,))\r\n",
        "    label = layers.Input(shape=(1,), dtype = 'int32')\r\n",
        "    \r\n",
        "    label_embedding = layers.Embedding(num_classes, noise_dim, input_length = 1)(label)\r\n",
        "    label_embedding = layers.Flatten()(label_embedding)\r\n",
        "    joined = layers.multiply([z, label_embedding])\r\n",
        "    \r\n",
        "    img = model(joined)\r\n",
        "    return Model([z, label], img)"
      ],
      "execution_count": 10,
      "outputs": []
    },
    {
      "cell_type": "code",
      "metadata": {
        "id": "x5k2wLLgOHlL"
      },
      "source": [
        "generator = build_generator_model()"
      ],
      "execution_count": 11,
      "outputs": []
    },
    {
      "cell_type": "code",
      "metadata": {
        "id": "VS0vHlP1X_mx"
      },
      "source": [
        ""
      ],
      "execution_count": 11,
      "outputs": []
    },
    {
      "cell_type": "code",
      "metadata": {
        "id": "_M6pILd3OHnZ"
      },
      "source": [
        "\r\n",
        "def build_discriminator_model():\r\n",
        "    model = tf.keras.Sequential()\r\n",
        "    model.add(layers.Conv2D(64, (5, 5), strides=(2, 2), padding='same',\r\n",
        "                                      input_shape=[28, 28, 2]))\r\n",
        "    model.add(layers.LeakyReLU())\r\n",
        "    model.add(layers.Dropout(0.3))\r\n",
        "\r\n",
        "    model.add(layers.Conv2D(128, (5, 5), strides=(2, 2), padding='same'))\r\n",
        "    model.add(layers.LeakyReLU())\r\n",
        "    model.add(layers.Dropout(0.3))\r\n",
        "\r\n",
        "    model.add(layers.Flatten())\r\n",
        "    model.add(layers.Dense(1))\r\n",
        "\r\n",
        "  \r\n",
        "    img = layers.Input(shape= (img_shape))\r\n",
        "    label = layers.Input(shape= (1,), dtype = 'int32')\r\n",
        "    \r\n",
        "    label_embedding = layers.Embedding(input_dim = num_classes, output_dim = np.prod(img_shape), input_length = 1)(label)\r\n",
        "    label_embedding = layers.Flatten()(label_embedding)\r\n",
        "    label_embedding = layers.Reshape(img_shape)(label_embedding)\r\n",
        "    \r\n",
        "    concat = layers.Concatenate(axis = -1)([img, label_embedding])\r\n",
        "    prediction = model(concat)\r\n",
        "    return Model([img, label], prediction)"
      ],
      "execution_count": 12,
      "outputs": []
    },
    {
      "cell_type": "code",
      "metadata": {
        "id": "kskrYsk2OHqA"
      },
      "source": [
        "\r\n",
        "discriminator = build_discriminator_model()"
      ],
      "execution_count": 13,
      "outputs": []
    },
    {
      "cell_type": "code",
      "metadata": {
        "id": "4A6UU-37Oz9Q"
      },
      "source": [
        "cross_entropy = tf.keras.losses.BinaryCrossentropy(from_logits=True)"
      ],
      "execution_count": 14,
      "outputs": []
    },
    {
      "cell_type": "code",
      "metadata": {
        "id": "-MrzbOVhbGHW"
      },
      "source": [
        "def discriminator_loss(real_output, fake_output):\r\n",
        "    real_loss = cross_entropy(tf.ones_like(real_output), real_output)\r\n",
        "    fake_loss = cross_entropy(tf.zeros_like(fake_output), fake_output)\r\n",
        "    total_loss = real_loss + fake_loss\r\n",
        "    return total_loss"
      ],
      "execution_count": 15,
      "outputs": []
    },
    {
      "cell_type": "code",
      "metadata": {
        "id": "5overXXlbGKJ"
      },
      "source": [
        "def generator_loss(fake_output):\r\n",
        "    return cross_entropy(tf.ones_like(fake_output), fake_output)"
      ],
      "execution_count": 16,
      "outputs": []
    },
    {
      "cell_type": "code",
      "metadata": {
        "id": "iWqclVPVbGMq"
      },
      "source": [
        "learning_rate = 1e-4\r\n",
        "generator_optimizer = tf.keras.optimizers.Adam(learning_rate)\r\n",
        "discriminator_optimizer = tf.keras.optimizers.Adam(learning_rate)"
      ],
      "execution_count": 17,
      "outputs": []
    },
    {
      "cell_type": "code",
      "metadata": {
        "id": "iV6625eafICE"
      },
      "source": [
        "def gradient_penalty(batch_size, real_images, fake_images,labels):\r\n",
        "    # Get the interpolated image\r\n",
        "    alpha = tf.random.normal([batch_size, 1, 1, 1], 0.0, 1.0)\r\n",
        "    diff = fake_images - real_images\r\n",
        "    interpolated = real_images + alpha * diff\r\n",
        "\r\n",
        "    with tf.GradientTape() as gp_tape:\r\n",
        "        gp_tape.watch(interpolated)\r\n",
        "        z = np.random.randint(0,1,size = (batch_size, noise_dim))\r\n",
        "        # 1. Get the discriminator output for this interpolated image.\r\n",
        "        pred = discriminator([interpolated,labels], training=True)\r\n",
        "\r\n",
        "    # 2. Calculate the gradients w.r.t to this interpolated image.\r\n",
        "    grads = gp_tape.gradient(pred, [interpolated])[0]\r\n",
        "    # 3. Calculate the norm of the gradients.\r\n",
        "    norm = tf.sqrt(tf.reduce_sum(tf.square(grads), axis=[1, 2, 3]))\r\n",
        "    gp = tf.reduce_mean((norm - 1.0) ** 2)\r\n",
        "    return gp"
      ],
      "execution_count": 18,
      "outputs": []
    },
    {
      "cell_type": "code",
      "metadata": {
        "id": "Qj_sOQudbGPj"
      },
      "source": [
        "Lambda = 10\r\n",
        "@tf.function\r\n",
        "def train_step(batch_size):\r\n",
        "  \r\n",
        "  idx = np.random.randint(0, X_train.shape[0], batch_size)\r\n",
        "  Xtrain, labels = X_train[idx], y_train[idx]\r\n",
        "\r\n",
        "  with tf.device('/device:GPU:0'): \r\n",
        "    with tf.GradientTape() as gen_tape, tf.GradientTape() as disc_tape:\r\n",
        "      \r\n",
        "      z = np.random.normal(0,1,size = (batch_size, noise_dim))\r\n",
        "\r\n",
        "      generated_images = generator([z,labels], training=True)\r\n",
        "      real_output = discriminator([Xtrain, labels], training=True)\r\n",
        "      fake_output = discriminator([generated_images, labels], training=True)\r\n",
        "\r\n",
        "      gen_loss = generator_loss(fake_output)\r\n",
        "      disc_loss = discriminator_loss(real_output, fake_output)\r\n",
        "      # gp = gradient_penalty(batch_size, X_train, generated_images, y_train)\r\n",
        "      disc_loss = disc_loss # + gp * 10\r\n",
        "\r\n",
        "    tf.print(gen_loss,disc_loss)\r\n",
        "    gradients_of_generator = gen_tape.gradient(gen_loss, generator.trainable_variables)\r\n",
        "    gradients_of_discriminator = disc_tape.gradient(disc_loss, discriminator.trainable_variables)\r\n",
        "\r\n",
        "    generator_optimizer.apply_gradients(zip(gradients_of_generator, generator.trainable_variables))\r\n",
        "    discriminator_optimizer.apply_gradients(zip(gradients_of_discriminator, discriminator.trainable_variables))"
      ],
      "execution_count": 19,
      "outputs": []
    },
    {
      "cell_type": "code",
      "metadata": {
        "id": "sCo98_89bOy9"
      },
      "source": [
        "from IPython.display import Image, display\r\n",
        "import time\r\n",
        "epoch = 50000\r\n",
        "def train(epochs):\r\n",
        "  for epoch in range(epochs):\r\n",
        "    start = time.time()\r\n",
        "    batch_size = 1000\r\n",
        "\r\n",
        "    train_step(batch_size)\r\n",
        "      \r\n",
        "\r\n",
        "    print ('Time for epoch {} is {}(s)'.format(epoch + 1, time.time()-start))\r\n",
        "    \r\n",
        "    # if (epoch + 1) % 5 == 0:\r\n",
        "    #     idx = np.random.randint(0, 1000, 1)\r\n",
        "    #     labels =  y_train[idx]\r\n",
        "\r\n",
        "    #     z = np.random.normal(0,1,size = (1, noise_dim))\r\n",
        "\r\n",
        "    #     img = np.array(generator([z,labels]))\r\n",
        "    #     print(labels)\r\n",
        "    #     img = img * 255\r\n",
        "    #     img = img.reshape(32,32,3)\r\n",
        "    #     plt.imshow(img)\r\n",
        "    \r\n",
        "    #     display(plt.plot(img))\r\n",
        "    #     plt.show()\r\n",
        "    #     display.display(plt.gcf())\r\n",
        "    #     display.clear_output(wait=True)\r\n"
      ],
      "execution_count": 20,
      "outputs": []
    },
    {
      "cell_type": "code",
      "metadata": {
        "colab": {
          "base_uri": "https://localhost:8080/",
          "height": 1000
        },
        "id": "OWHfPvv9bO1u",
        "outputId": "398bc1fa-3b51-40ad-f252-87aa3f742843"
      },
      "source": [
        "train(50000)"
      ],
      "execution_count": 21,
      "outputs": [
        {
          "output_type": "stream",
          "text": [
            "0.693826914 1.4006393\n",
            "Time for epoch 1 is 8.97117567062378(s)\n",
            "0.692651749 1.36949754\n",
            "Time for epoch 2 is 0.1190953254699707(s)\n",
            "0.692326546 1.3381747\n",
            "Time for epoch 3 is 0.11797070503234863(s)\n",
            "0.691375554 1.30890393\n",
            "Time for epoch 4 is 0.11773347854614258(s)\n",
            "0.688709915 1.28472447\n",
            "Time for epoch 5 is 0.11761903762817383(s)\n",
            "0.685135782 1.2612021\n",
            "Time for epoch 6 is 0.1317002773284912(s)\n",
            "0.67799449 1.24080682\n",
            "Time for epoch 7 is 0.11884427070617676(s)\n",
            "0.670520902 1.22442544\n",
            "Time for epoch 8 is 0.12263703346252441(s)\n",
            "0.662395775 1.20555496\n",
            "Time for epoch 9 is 0.11854338645935059(s)\n",
            "0.65384078 1.19234419\n",
            "Time for epoch 10 is 0.11673855781555176(s)\n",
            "0.641458869 1.18349361\n",
            "Time for epoch 11 is 0.1156778335571289(s)\n",
            "0.63122642 1.17285633\n",
            "Time for epoch 12 is 0.117034912109375(s)\n",
            "0.619229615 1.16603482\n",
            "Time for epoch 13 is 0.11612749099731445(s)\n",
            "0.608259618 1.15950155\n",
            "Time for epoch 14 is 0.12204790115356445(s)\n",
            "0.599538565 1.15367126\n",
            "Time for epoch 15 is 0.12185072898864746(s)\n",
            "0.589933217 1.14740455\n",
            "Time for epoch 16 is 0.12330412864685059(s)\n",
            "0.582865417 1.14258862\n",
            "Time for epoch 17 is 0.12021756172180176(s)\n",
            "0.577926874 1.13361359\n",
            "Time for epoch 18 is 0.1174163818359375(s)\n",
            "0.571673632 1.13104892\n",
            "Time for epoch 19 is 0.11826324462890625(s)\n",
            "0.567922711 1.12489438\n",
            "Time for epoch 20 is 0.11715078353881836(s)\n",
            "0.567348778 1.11742973\n",
            "Time for epoch 21 is 0.11793923377990723(s)\n",
            "0.565090597 1.11306143\n",
            "Time for epoch 22 is 0.11850690841674805(s)\n",
            "0.567888319 1.1032455\n",
            "Time for epoch 23 is 0.12092876434326172(s)\n",
            "0.569112062 1.09624052\n",
            "Time for epoch 24 is 0.1219942569732666(s)\n",
            "0.569018662 1.09428906\n",
            "Time for epoch 25 is 0.11998248100280762(s)\n",
            "0.571393549 1.08884728\n",
            "Time for epoch 26 is 0.12115931510925293(s)\n",
            "0.569804966 1.09117246\n",
            "Time for epoch 27 is 0.11797404289245605(s)\n",
            "0.568611 1.09236598\n",
            "Time for epoch 28 is 0.11916542053222656(s)\n",
            "0.564983189 1.10093594\n",
            "Time for epoch 29 is 0.11900544166564941(s)\n",
            "0.560984254 1.11021554\n",
            "Time for epoch 30 is 0.12079620361328125(s)\n",
            "0.554076314 1.12580764\n",
            "Time for epoch 31 is 0.12229728698730469(s)\n",
            "0.545433581 1.14448142\n",
            "Time for epoch 32 is 0.12462973594665527(s)\n",
            "0.537635565 1.16543388\n",
            "Time for epoch 33 is 0.12251067161560059(s)\n",
            "0.528844714 1.19071877\n",
            "Time for epoch 34 is 0.12060761451721191(s)\n",
            "0.519444525 1.22116852\n",
            "Time for epoch 35 is 0.12108922004699707(s)\n",
            "0.508972824 1.25435328\n",
            "Time for epoch 36 is 0.11945486068725586(s)\n",
            "0.500024199 1.28991604\n",
            "Time for epoch 37 is 0.11692619323730469(s)\n",
            "0.490439922 1.33027911\n",
            "Time for epoch 38 is 0.11906027793884277(s)\n",
            "0.488258481 1.36593366\n",
            "Time for epoch 39 is 0.12054300308227539(s)\n",
            "0.487200737 1.40195298\n",
            "Time for epoch 40 is 0.12076616287231445(s)\n",
            "0.49285692 1.4350884\n"
          ],
          "name": "stdout"
        },
        {
          "output_type": "error",
          "ename": "KeyboardInterrupt",
          "evalue": "ignored",
          "traceback": [
            "\u001b[0;31m---------------------------------------------------------------------------\u001b[0m",
            "\u001b[0;31mKeyboardInterrupt\u001b[0m                         Traceback (most recent call last)",
            "\u001b[0;32m<ipython-input-21-0a35e4abda4c>\u001b[0m in \u001b[0;36m<module>\u001b[0;34m()\u001b[0m\n\u001b[0;32m----> 1\u001b[0;31m \u001b[0mtrain\u001b[0m\u001b[0;34m(\u001b[0m\u001b[0;36m50000\u001b[0m\u001b[0;34m)\u001b[0m\u001b[0;34m\u001b[0m\u001b[0;34m\u001b[0m\u001b[0m\n\u001b[0m",
            "\u001b[0;32m<ipython-input-20-bdb3789274e7>\u001b[0m in \u001b[0;36mtrain\u001b[0;34m(epochs)\u001b[0m\n\u001b[1;32m      7\u001b[0m     \u001b[0mbatch_size\u001b[0m \u001b[0;34m=\u001b[0m \u001b[0;36m1000\u001b[0m\u001b[0;34m\u001b[0m\u001b[0;34m\u001b[0m\u001b[0m\n\u001b[1;32m      8\u001b[0m \u001b[0;34m\u001b[0m\u001b[0m\n\u001b[0;32m----> 9\u001b[0;31m     \u001b[0mtrain_step\u001b[0m\u001b[0;34m(\u001b[0m\u001b[0mbatch_size\u001b[0m\u001b[0;34m)\u001b[0m\u001b[0;34m\u001b[0m\u001b[0;34m\u001b[0m\u001b[0m\n\u001b[0m\u001b[1;32m     10\u001b[0m \u001b[0;34m\u001b[0m\u001b[0m\n\u001b[1;32m     11\u001b[0m \u001b[0;34m\u001b[0m\u001b[0m\n",
            "\u001b[0;32m/usr/local/lib/python3.6/dist-packages/tensorflow/python/eager/def_function.py\u001b[0m in \u001b[0;36m__call__\u001b[0;34m(self, *args, **kwds)\u001b[0m\n\u001b[1;32m    826\u001b[0m     \u001b[0mtracing_count\u001b[0m \u001b[0;34m=\u001b[0m \u001b[0mself\u001b[0m\u001b[0;34m.\u001b[0m\u001b[0mexperimental_get_tracing_count\u001b[0m\u001b[0;34m(\u001b[0m\u001b[0;34m)\u001b[0m\u001b[0;34m\u001b[0m\u001b[0;34m\u001b[0m\u001b[0m\n\u001b[1;32m    827\u001b[0m     \u001b[0;32mwith\u001b[0m \u001b[0mtrace\u001b[0m\u001b[0;34m.\u001b[0m\u001b[0mTrace\u001b[0m\u001b[0;34m(\u001b[0m\u001b[0mself\u001b[0m\u001b[0;34m.\u001b[0m\u001b[0m_name\u001b[0m\u001b[0;34m)\u001b[0m \u001b[0;32mas\u001b[0m \u001b[0mtm\u001b[0m\u001b[0;34m:\u001b[0m\u001b[0;34m\u001b[0m\u001b[0;34m\u001b[0m\u001b[0m\n\u001b[0;32m--> 828\u001b[0;31m       \u001b[0mresult\u001b[0m \u001b[0;34m=\u001b[0m \u001b[0mself\u001b[0m\u001b[0;34m.\u001b[0m\u001b[0m_call\u001b[0m\u001b[0;34m(\u001b[0m\u001b[0;34m*\u001b[0m\u001b[0margs\u001b[0m\u001b[0;34m,\u001b[0m \u001b[0;34m**\u001b[0m\u001b[0mkwds\u001b[0m\u001b[0;34m)\u001b[0m\u001b[0;34m\u001b[0m\u001b[0;34m\u001b[0m\u001b[0m\n\u001b[0m\u001b[1;32m    829\u001b[0m       \u001b[0mcompiler\u001b[0m \u001b[0;34m=\u001b[0m \u001b[0;34m\"xla\"\u001b[0m \u001b[0;32mif\u001b[0m \u001b[0mself\u001b[0m\u001b[0;34m.\u001b[0m\u001b[0m_experimental_compile\u001b[0m \u001b[0;32melse\u001b[0m \u001b[0;34m\"nonXla\"\u001b[0m\u001b[0;34m\u001b[0m\u001b[0;34m\u001b[0m\u001b[0m\n\u001b[1;32m    830\u001b[0m       \u001b[0mnew_tracing_count\u001b[0m \u001b[0;34m=\u001b[0m \u001b[0mself\u001b[0m\u001b[0;34m.\u001b[0m\u001b[0mexperimental_get_tracing_count\u001b[0m\u001b[0;34m(\u001b[0m\u001b[0;34m)\u001b[0m\u001b[0;34m\u001b[0m\u001b[0;34m\u001b[0m\u001b[0m\n",
            "\u001b[0;32m/usr/local/lib/python3.6/dist-packages/tensorflow/python/eager/def_function.py\u001b[0m in \u001b[0;36m_call\u001b[0;34m(self, *args, **kwds)\u001b[0m\n\u001b[1;32m    853\u001b[0m       \u001b[0;31m# In this case we have created variables on the first call, so we run the\u001b[0m\u001b[0;34m\u001b[0m\u001b[0;34m\u001b[0m\u001b[0;34m\u001b[0m\u001b[0m\n\u001b[1;32m    854\u001b[0m       \u001b[0;31m# defunned version which is guaranteed to never create variables.\u001b[0m\u001b[0;34m\u001b[0m\u001b[0;34m\u001b[0m\u001b[0;34m\u001b[0m\u001b[0m\n\u001b[0;32m--> 855\u001b[0;31m       \u001b[0;32mreturn\u001b[0m \u001b[0mself\u001b[0m\u001b[0;34m.\u001b[0m\u001b[0m_stateless_fn\u001b[0m\u001b[0;34m(\u001b[0m\u001b[0;34m*\u001b[0m\u001b[0margs\u001b[0m\u001b[0;34m,\u001b[0m \u001b[0;34m**\u001b[0m\u001b[0mkwds\u001b[0m\u001b[0;34m)\u001b[0m  \u001b[0;31m# pylint: disable=not-callable\u001b[0m\u001b[0;34m\u001b[0m\u001b[0;34m\u001b[0m\u001b[0m\n\u001b[0m\u001b[1;32m    856\u001b[0m     \u001b[0;32melif\u001b[0m \u001b[0mself\u001b[0m\u001b[0;34m.\u001b[0m\u001b[0m_stateful_fn\u001b[0m \u001b[0;32mis\u001b[0m \u001b[0;32mnot\u001b[0m \u001b[0;32mNone\u001b[0m\u001b[0;34m:\u001b[0m\u001b[0;34m\u001b[0m\u001b[0;34m\u001b[0m\u001b[0m\n\u001b[1;32m    857\u001b[0m       \u001b[0;31m# Release the lock early so that multiple threads can perform the call\u001b[0m\u001b[0;34m\u001b[0m\u001b[0;34m\u001b[0m\u001b[0;34m\u001b[0m\u001b[0m\n",
            "\u001b[0;32m/usr/local/lib/python3.6/dist-packages/tensorflow/python/eager/function.py\u001b[0m in \u001b[0;36m__call__\u001b[0;34m(self, *args, **kwargs)\u001b[0m\n\u001b[1;32m   2941\u001b[0m        filtered_flat_args) = self._maybe_define_function(args, kwargs)\n\u001b[1;32m   2942\u001b[0m     return graph_function._call_flat(\n\u001b[0;32m-> 2943\u001b[0;31m         filtered_flat_args, captured_inputs=graph_function.captured_inputs)  # pylint: disable=protected-access\n\u001b[0m\u001b[1;32m   2944\u001b[0m \u001b[0;34m\u001b[0m\u001b[0m\n\u001b[1;32m   2945\u001b[0m   \u001b[0;34m@\u001b[0m\u001b[0mproperty\u001b[0m\u001b[0;34m\u001b[0m\u001b[0;34m\u001b[0m\u001b[0m\n",
            "\u001b[0;32m/usr/local/lib/python3.6/dist-packages/tensorflow/python/eager/function.py\u001b[0m in \u001b[0;36m_call_flat\u001b[0;34m(self, args, captured_inputs, cancellation_manager)\u001b[0m\n\u001b[1;32m   1917\u001b[0m       \u001b[0;31m# No tape is watching; skip to running the function.\u001b[0m\u001b[0;34m\u001b[0m\u001b[0;34m\u001b[0m\u001b[0;34m\u001b[0m\u001b[0m\n\u001b[1;32m   1918\u001b[0m       return self._build_call_outputs(self._inference_function.call(\n\u001b[0;32m-> 1919\u001b[0;31m           ctx, args, cancellation_manager=cancellation_manager))\n\u001b[0m\u001b[1;32m   1920\u001b[0m     forward_backward = self._select_forward_and_backward_functions(\n\u001b[1;32m   1921\u001b[0m         \u001b[0margs\u001b[0m\u001b[0;34m,\u001b[0m\u001b[0;34m\u001b[0m\u001b[0;34m\u001b[0m\u001b[0m\n",
            "\u001b[0;32m/usr/local/lib/python3.6/dist-packages/tensorflow/python/eager/function.py\u001b[0m in \u001b[0;36mcall\u001b[0;34m(self, ctx, args, cancellation_manager)\u001b[0m\n\u001b[1;32m    558\u001b[0m               \u001b[0minputs\u001b[0m\u001b[0;34m=\u001b[0m\u001b[0margs\u001b[0m\u001b[0;34m,\u001b[0m\u001b[0;34m\u001b[0m\u001b[0;34m\u001b[0m\u001b[0m\n\u001b[1;32m    559\u001b[0m               \u001b[0mattrs\u001b[0m\u001b[0;34m=\u001b[0m\u001b[0mattrs\u001b[0m\u001b[0;34m,\u001b[0m\u001b[0;34m\u001b[0m\u001b[0;34m\u001b[0m\u001b[0m\n\u001b[0;32m--> 560\u001b[0;31m               ctx=ctx)\n\u001b[0m\u001b[1;32m    561\u001b[0m         \u001b[0;32melse\u001b[0m\u001b[0;34m:\u001b[0m\u001b[0;34m\u001b[0m\u001b[0;34m\u001b[0m\u001b[0m\n\u001b[1;32m    562\u001b[0m           outputs = execute.execute_with_cancellation(\n",
            "\u001b[0;32m/usr/local/lib/python3.6/dist-packages/tensorflow/python/eager/execute.py\u001b[0m in \u001b[0;36mquick_execute\u001b[0;34m(op_name, num_outputs, inputs, attrs, ctx, name)\u001b[0m\n\u001b[1;32m     58\u001b[0m     \u001b[0mctx\u001b[0m\u001b[0;34m.\u001b[0m\u001b[0mensure_initialized\u001b[0m\u001b[0;34m(\u001b[0m\u001b[0;34m)\u001b[0m\u001b[0;34m\u001b[0m\u001b[0;34m\u001b[0m\u001b[0m\n\u001b[1;32m     59\u001b[0m     tensors = pywrap_tfe.TFE_Py_Execute(ctx._handle, device_name, op_name,\n\u001b[0;32m---> 60\u001b[0;31m                                         inputs, attrs, num_outputs)\n\u001b[0m\u001b[1;32m     61\u001b[0m   \u001b[0;32mexcept\u001b[0m \u001b[0mcore\u001b[0m\u001b[0;34m.\u001b[0m\u001b[0m_NotOkStatusException\u001b[0m \u001b[0;32mas\u001b[0m \u001b[0me\u001b[0m\u001b[0;34m:\u001b[0m\u001b[0;34m\u001b[0m\u001b[0;34m\u001b[0m\u001b[0m\n\u001b[1;32m     62\u001b[0m     \u001b[0;32mif\u001b[0m \u001b[0mname\u001b[0m \u001b[0;32mis\u001b[0m \u001b[0;32mnot\u001b[0m \u001b[0;32mNone\u001b[0m\u001b[0;34m:\u001b[0m\u001b[0;34m\u001b[0m\u001b[0;34m\u001b[0m\u001b[0m\n",
            "\u001b[0;31mKeyboardInterrupt\u001b[0m: "
          ]
        }
      ]
    },
    {
      "cell_type": "code",
      "metadata": {
        "id": "tHbs5IG0bO30",
        "colab": {
          "base_uri": "https://localhost:8080/",
          "height": 313
        },
        "outputId": "5802f05c-2437-4a40-e77b-c8c5df93cd7f"
      },
      "source": [
        "idx = np.random.randint(0, 1000, 1)\r\n",
        "# labels =  y_train[idx]\r\n",
        "\r\n",
        "name2idx = {'T-shirt/top' : 0,\r\n",
        "            'Trouser' : 1,\r\n",
        "            'Pullover' : 2,\r\n",
        "            'Dress' : 3,\r\n",
        "            'Coat' : 4,\r\n",
        "            'Sandal' : 5,\r\n",
        "            'Shirt' : 6, \r\n",
        "            'Sneaker' : 7,\r\n",
        "            'Bag' : 8, \r\n",
        "            'Ankle boot' : 9}\r\n",
        "\r\n",
        "\r\n",
        "\r\n",
        "labels = [name2idx['Dress']]\r\n",
        "\r\n",
        "labels = np.expand_dims(labels, axis=1)\r\n",
        "\r\n",
        "print(labels.shape)\r\n",
        "\r\n",
        "z = np.random.normal(0,1,size = (1, noise_dim))\r\n",
        "\r\n",
        "img = np.array(generator([z,labels]))\r\n",
        "print(labels)\r\n",
        "\r\n",
        "img = img.reshape(28,28)\r\n",
        "plt.imshow(img)"
      ],
      "execution_count": 122,
      "outputs": [
        {
          "output_type": "stream",
          "text": [
            "(1, 1)\n",
            "[[3]]\n"
          ],
          "name": "stdout"
        },
        {
          "output_type": "execute_result",
          "data": {
            "text/plain": [
              "<matplotlib.image.AxesImage at 0x7fc4a9ed6ba8>"
            ]
          },
          "metadata": {
            "tags": []
          },
          "execution_count": 122
        },
        {
          "output_type": "display_data",
          "data": {
            "image/png": "[encoded data removed]",
            "text/plain": [
              "<Figure size 432x288 with 1 Axes>"
            ]
          },
          "metadata": {
            "tags": [],
            "needs_background": "light"
          }
        }
      ]
    },
    {
      "cell_type": "code",
      "metadata": {
        "id": "ubq1wMWpk0g4",
        "colab": {
          "base_uri": "https://localhost:8080/",
          "height": 207
        },
        "outputId": "2d3712b9-9db9-44a9-f222-c5b31f772019"
      },
      "source": [
        "img = np.array(generator(np.expand_dims(np.array(train_captions[5432]), axis=0)))\r\n",
        "print(decode_sequence([train_captions[5432]]))\r\n",
        "img = img.reshape(64,64)\r\n",
        "plt.imshow(img)"
      ],
      "execution_count": 114,
      "outputs": [
        {
          "output_type": "error",
          "ename": "NameError",
          "evalue": "ignored",
          "traceback": [
            "\u001b[0;31m---------------------------------------------------------------------------\u001b[0m",
            "\u001b[0;31mNameError\u001b[0m                                 Traceback (most recent call last)",
            "\u001b[0;32m<ipython-input-114-300d64d039b2>\u001b[0m in \u001b[0;36m<module>\u001b[0;34m()\u001b[0m\n\u001b[0;32m----> 1\u001b[0;31m \u001b[0mimg\u001b[0m \u001b[0;34m=\u001b[0m \u001b[0mnp\u001b[0m\u001b[0;34m.\u001b[0m\u001b[0marray\u001b[0m\u001b[0;34m(\u001b[0m\u001b[0mgenerator\u001b[0m\u001b[0;34m(\u001b[0m\u001b[0mnp\u001b[0m\u001b[0;34m.\u001b[0m\u001b[0mexpand_dims\u001b[0m\u001b[0;34m(\u001b[0m\u001b[0mnp\u001b[0m\u001b[0;34m.\u001b[0m\u001b[0marray\u001b[0m\u001b[0;34m(\u001b[0m\u001b[0mtrain_captions\u001b[0m\u001b[0;34m[\u001b[0m\u001b[0;36m5432\u001b[0m\u001b[0;34m]\u001b[0m\u001b[0;34m)\u001b[0m\u001b[0;34m,\u001b[0m \u001b[0maxis\u001b[0m\u001b[0;34m=\u001b[0m\u001b[0;36m0\u001b[0m\u001b[0;34m)\u001b[0m\u001b[0;34m)\u001b[0m\u001b[0;34m)\u001b[0m\u001b[0;34m\u001b[0m\u001b[0;34m\u001b[0m\u001b[0m\n\u001b[0m\u001b[1;32m      2\u001b[0m \u001b[0mprint\u001b[0m\u001b[0;34m(\u001b[0m\u001b[0mdecode_sequence\u001b[0m\u001b[0;34m(\u001b[0m\u001b[0;34m[\u001b[0m\u001b[0mtrain_captions\u001b[0m\u001b[0;34m[\u001b[0m\u001b[0;36m5432\u001b[0m\u001b[0;34m]\u001b[0m\u001b[0;34m]\u001b[0m\u001b[0;34m)\u001b[0m\u001b[0;34m)\u001b[0m\u001b[0;34m\u001b[0m\u001b[0;34m\u001b[0m\u001b[0m\n\u001b[1;32m      3\u001b[0m \u001b[0mimg\u001b[0m \u001b[0;34m=\u001b[0m \u001b[0mimg\u001b[0m\u001b[0;34m.\u001b[0m\u001b[0mreshape\u001b[0m\u001b[0;34m(\u001b[0m\u001b[0;36m64\u001b[0m\u001b[0;34m,\u001b[0m\u001b[0;36m64\u001b[0m\u001b[0;34m)\u001b[0m\u001b[0;34m\u001b[0m\u001b[0;34m\u001b[0m\u001b[0m\n\u001b[1;32m      4\u001b[0m \u001b[0mplt\u001b[0m\u001b[0;34m.\u001b[0m\u001b[0mimshow\u001b[0m\u001b[0;34m(\u001b[0m\u001b[0mimg\u001b[0m\u001b[0;34m)\u001b[0m\u001b[0;34m\u001b[0m\u001b[0;34m\u001b[0m\u001b[0m\n",
            "\u001b[0;31mNameError\u001b[0m: name 'train_captions' is not defined"
          ]
        }
      ]
    },
    {
      "cell_type": "code",
      "metadata": {
        "id": "x-LlW2glk15e"
      },
      "source": [
        "plt.imshow(train_images[432].reshape(64,64))\r\n",
        "print(decode_sequence([train_captions[432]]))"
      ],
      "execution_count": null,
      "outputs": []
    },
    {
      "cell_type": "code",
      "metadata": {
        "id": "B3UF_9mgpVZ2"
      },
      "source": [
        "noise = tf.random.normal([1, 100])\r\n",
        "img = np.array(generator(noise))\r\n",
        "# print(decode_sequence([train_captions[index]]))\r\n",
        "img = img.reshape(28,28)\r\n",
        "plt.imshow(img)"
      ],
      "execution_count": null,
      "outputs": []
    },
    {
      "cell_type": "code",
      "metadata": {
        "id": "mbUKfYcF1v2U",
        "colab": {
          "base_uri": "https://localhost:8080/",
          "height": 223
        },
        "outputId": "044a89dc-6c1d-42c1-f91c-3e72ffd56f2f"
      },
      "source": [
        "name2idx = {'T-shirt/top' : 0,\r\n",
        "            'Trouser' : 1,\r\n",
        "            'Pullover' : 2,\r\n",
        "            'Dress' : 3,\r\n",
        "            'Coat' : 4,\r\n",
        "            'Sandal' : 5,\r\n",
        "            'Shirt' : 6, \r\n",
        "            'Sneaker' : 7,\r\n",
        "            'Bag' : 8, \r\n",
        "            'Ankle boot' : 9}\r\n",
        "\r\n",
        "labelss = name2idx['Trouser']\r\n",
        "\r\n",
        "labelss = [labelss]\r\n",
        "\r\n",
        "z = np.random.normal(0,1, size = (1, noise_dim))\r\n",
        "\r\n",
        "img = np.array(generator([z,labelss]))\r\n",
        "\r\n",
        "print(labels)\r\n",
        "\r\n",
        "img = img.reshape(28,28)\r\n",
        "plt.imshow(img)"
      ],
      "execution_count": 73,
      "outputs": [
        {
          "output_type": "stream",
          "text": [
            "8\n"
          ],
          "name": "stdout"
        },
        {
          "output_type": "error",
          "ename": "ValueError",
          "evalue": "ignored",
          "traceback": [
            "\u001b[0;31m---------------------------------------------------------------------------\u001b[0m",
            "\u001b[0;31mValueError\u001b[0m                                Traceback (most recent call last)",
            "\u001b[0;32m<ipython-input-73-3e25cf264a96>\u001b[0m in \u001b[0;36m<module>\u001b[0;34m()\u001b[0m\n\u001b[1;32m     20\u001b[0m \u001b[0mprint\u001b[0m\u001b[0;34m(\u001b[0m\u001b[0mlabels\u001b[0m\u001b[0;34m)\u001b[0m\u001b[0;34m\u001b[0m\u001b[0;34m\u001b[0m\u001b[0m\n\u001b[1;32m     21\u001b[0m \u001b[0;34m\u001b[0m\u001b[0m\n\u001b[0;32m---> 22\u001b[0;31m \u001b[0mimg\u001b[0m \u001b[0;34m=\u001b[0m \u001b[0mimg\u001b[0m\u001b[0;34m.\u001b[0m\u001b[0mreshape\u001b[0m\u001b[0;34m(\u001b[0m\u001b[0;36m28\u001b[0m\u001b[0;34m,\u001b[0m\u001b[0;36m28\u001b[0m\u001b[0;34m)\u001b[0m\u001b[0;34m\u001b[0m\u001b[0;34m\u001b[0m\u001b[0m\n\u001b[0m\u001b[1;32m     23\u001b[0m \u001b[0mplt\u001b[0m\u001b[0;34m.\u001b[0m\u001b[0mimshow\u001b[0m\u001b[0;34m(\u001b[0m\u001b[0mimg\u001b[0m\u001b[0;34m)\u001b[0m\u001b[0;34m\u001b[0m\u001b[0;34m\u001b[0m\u001b[0m\n",
            "\u001b[0;31mValueError\u001b[0m: cannot reshape array of size 78400 into shape (28,28)"
          ]
        }
      ]
    },
    {
      "cell_type": "code",
      "metadata": {
        "colab": {
          "base_uri": "https://localhost:8080/"
        },
        "id": "Jn1ev2fVD4Qv",
        "outputId": "411efe92-a271-4dfc-ff4d-aa874707ed1f"
      },
      "source": [
        "name2idx = {'T-shirt/top' : 0,\r\n",
        "            'Trouser' : 1,\r\n",
        "            'Pullover' : 2,\r\n",
        "            'Dress' : 3,\r\n",
        "            'Coat' : 4,\r\n",
        "            'Sandal' : 5,\r\n",
        "            'Shirt' : 6, \r\n",
        "            'Sneaker' : 7,\r\n",
        "            'Bag' : 8, \r\n",
        "            'Ankle boot' : 9}\r\n",
        "\r\n",
        "labels =name2idx['Bag']\r\n",
        "labels"
      ],
      "execution_count": 69,
      "outputs": [
        {
          "output_type": "execute_result",
          "data": {
            "text/plain": [
              "8"
            ]
          },
          "metadata": {
            "tags": []
          },
          "execution_count": 69
        }
      ]
    },
    {
      "cell_type": "code",
      "metadata": {
        "id": "a7MmwAMoEyAG"
      },
      "source": [
        "generator.save_weights(f'generator-epochs-50000-learning_rate-{learning_rate}.h5')\r\n",
        "discriminator.save_weights(f'discriminator-epochs-50000-learning_rate-{learning_rate}.h5')"
      ],
      "execution_count": 151,
      "outputs": []
    },
    {
      "cell_type": "code",
      "metadata": {
        "id": "zXd6OjgDpa-F"
      },
      "source": [
        "def generate_sample(label):\r\n",
        "  name2idx = {'T-shirt/top' : 0,\r\n",
        "              'Trouser' : 1,\r\n",
        "              'Pullover' : 2,\r\n",
        "              'Dress' : 3,\r\n",
        "              'Coat' : 4,\r\n",
        "              'Sandal' : 5,\r\n",
        "              'Shirt' : 6, \r\n",
        "              'Sneaker' : 7,\r\n",
        "              'Bag' : 8, \r\n",
        "              'Ankle boot' : 9}\r\n",
        "\r\n",
        "\r\n",
        "\r\n",
        "  labels = [name2idx[label]]\r\n",
        "\r\n",
        "  labels = np.expand_dims(labels, axis=1)\r\n",
        "\r\n",
        "  z = np.random.normal(0,1,size = (1, noise_dim))\r\n",
        "\r\n",
        "  img = np.array(generator([z,labels]))\r\n",
        "\r\n",
        "  img = img.reshape(28,28)\r\n",
        "  plt.imshow(img)"
      ],
      "execution_count": 24,
      "outputs": []
    },
    {
      "cell_type": "code",
      "metadata": {
        "id": "1KgK0dpIqhLm"
      },
      "source": [
        "generator.load_weights('generator-epochs-50000-learning_rate-0.0001.h5')"
      ],
      "execution_count": 25,
      "outputs": []
    },
    {
      "cell_type": "code",
      "metadata": {
        "colab": {
          "base_uri": "https://localhost:8080/",
          "height": 265
        },
        "id": "StqV0K3BqjSj",
        "outputId": "3e24cc4c-1597-4dc9-e9e5-914c3ec5077e"
      },
      "source": [
        "generate_sample('Shirt')"
      ],
      "execution_count": 112,
      "outputs": [
        {
          "output_type": "display_data",
          "data": {
            "image/png": "[encoded data removed]",
            "text/plain": [
              "<Figure size 432x288 with 1 Axes>"
            ]
          },
          "metadata": {
            "tags": [],
            "needs_background": "light"
          }
        }
      ]
    },
    {
      "cell_type": "code",
      "metadata": {
        "id": "2O8WLBzJK0nF"
      },
      "source": [
        ""
      ],
      "execution_count": 40,
      "outputs": []
    }
  ]
}