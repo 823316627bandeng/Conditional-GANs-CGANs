{
  "nbformat": 4,
  "nbformat_minor": 0,
  "metadata": {
    "accelerator": "GPU",
    "colab": {
      "name": "imageGen.ipynb",
      "provenance": [],
      "collapsed_sections": []
    },
    "kernelspec": {
      "display_name": "Python 3",
      "name": "python3"
    }
  },
  "cells": [
    {
      "cell_type": "code",
      "metadata": {
        "id": "XeZKKUlSkutQ"
      },
      "source": [
        "import tensorflow as tf\n",
        "import matplotlib.pyplot as plt\n",
        "from IPython.display import display\n",
        "from sklearn.model_selection import train_test_split\n",
        "from sklearn.utils import shuffle\n",
        "import collections\n",
        "import random\n",
        "import re\n",
        "import numpy as np\n",
        "import os\n",
        "import time\n",
        "import json\n",
        "from glob import glob\n",
        "from PIL import Image\n",
        "import pickle"
      ],
      "execution_count": 1,
      "outputs": []
    },
    {
      "cell_type": "code",
      "metadata": {
        "id": "Fg7Qy_6okwPF",
        "colab": {
          "base_uri": "https://localhost:8080/"
        },
        "outputId": "0273550c-0497-4340-e375-e7fc94711f25"
      },
      "source": [
        "# Download caption annotation files\n",
        "annotation_folder = '/annotations/'\n",
        "if not os.path.exists(os.path.abspath('.') + annotation_folder):\n",
        "  annotation_zip = tf.keras.utils.get_file('captions.zip',\n",
        "                                          cache_subdir=os.path.abspath('.'),\n",
        "                                          origin = 'http://images.cocodataset.org/annotations/annotations_trainval2014.zip',\n",
        "                                          extract = True)\n",
        "  annotation_file = os.path.dirname(annotation_zip)+'/annotations/captions_train2014.json'\n",
        "  os.remove(annotation_zip)\n",
        "\n",
        "# Download image files\n",
        "image_folder = '/train2014/'\n",
        "if not os.path.exists(os.path.abspath('.') + image_folder):\n",
        "  image_zip = tf.keras.utils.get_file('train2014.zip',\n",
        "                                      cache_subdir=os.path.abspath('.'),\n",
        "                                      origin = 'http://images.cocodataset.org/zips/train2014.zip',\n",
        "                                      extract = True)\n",
        "  PATH = os.path.dirname(image_zip) + image_folder\n",
        "  os.remove(image_zip)\n",
        "else:\n",
        "  PATH = os.path.abspath('.') + image_folder"
      ],
      "execution_count": 2,
      "outputs": [
        {
          "output_type": "stream",
          "text": [
            "Downloading data from http://images.cocodataset.org/annotations/annotations_trainval2014.zip\n",
            "252878848/252872794 [==============================] - 6s 0us/step\n",
            "Downloading data from http://images.cocodataset.org/zips/train2014.zip\n",
            "13510574080/13510573713 [==============================] - 326s 0us/step\n"
          ],
          "name": "stdout"
        }
      ]
    },
    {
      "cell_type": "code",
      "metadata": {
        "id": "B_W9P6EEkwRp"
      },
      "source": [
        "with open(annotation_file, 'r') as f:\n",
        "    annotations = json.load(f)"
      ],
      "execution_count": 3,
      "outputs": []
    },
    {
      "cell_type": "code",
      "metadata": {
        "id": "VcMJ9s8NkwUJ"
      },
      "source": [
        "# Group all captions together having the same image ID.\n",
        "image_path_to_caption = collections.defaultdict(list)\n",
        "for val in annotations['annotations']:\n",
        "  caption = f\"<start> {val['caption']} <end>\"\n",
        "  image_path = PATH + 'COCO_train2014_' + '%012d.jpg' % (val['image_id'])\n",
        "  image_path_to_caption[image_path].append(caption)"
      ],
      "execution_count": 4,
      "outputs": []
    },
    {
      "cell_type": "code",
      "metadata": {
        "colab": {
          "base_uri": "https://localhost:8080/"
        },
        "id": "T19CtzVekwWs",
        "outputId": "3fce4228-3f4c-4eb0-c12d-784a74323b5a"
      },
      "source": [
        "image_paths = list(image_path_to_caption.keys())\n",
        "random.shuffle(image_paths)\n",
        "\n",
        "# Select the first 6000 image_paths from the shuffled set.\n",
        "# Approximately each image id has 5 captions associated with it, so that will \n",
        "# lead to 30,000 examples.\n",
        "train_image_paths = image_paths[:6000]\n",
        "print(len(train_image_paths))"
      ],
      "execution_count": 5,
      "outputs": [
        {
          "output_type": "stream",
          "text": [
            "6000\n"
          ],
          "name": "stdout"
        }
      ]
    },
    {
      "cell_type": "code",
      "metadata": {
        "id": "lhVWVklylEHN"
      },
      "source": [
        "train_captions = []\n",
        "img_name_vector = []\n",
        "\n",
        "for image_path in train_image_paths:\n",
        "  caption_list = image_path_to_caption[image_path]\n",
        "  train_captions.extend(caption_list)\n",
        "  img_name_vector.extend([image_path] * len(caption_list))"
      ],
      "execution_count": 6,
      "outputs": []
    },
    {
      "cell_type": "code",
      "metadata": {
        "colab": {
          "base_uri": "https://localhost:8080/"
        },
        "id": "bqVtugDGDCaL",
        "outputId": "3004db19-3a1c-492e-bc7a-afb898601e91"
      },
      "source": [
        "print(f'===> number of images: {len(img_name_vector)}\\n===> number of captions: {len(train_captions)}')"
      ],
      "execution_count": 7,
      "outputs": [
        {
          "output_type": "stream",
          "text": [
            "===> number of images: 30012\n",
            "===> number of captions: 30012\n"
          ],
          "name": "stdout"
        }
      ]
    },
    {
      "cell_type": "code",
      "metadata": {
        "id": "x0jWimnLx8lJ"
      },
      "source": [
        "top_k = 5000\n",
        "tokenizer = tf.keras.preprocessing.text.Tokenizer(num_words=top_k,\n",
        "                                                  oov_token=\"<unk>\",\n",
        "                                                  filters='!\"#$%&()*+.,-/:;=?@[\\]^_`{|}~ ')\n",
        "tokenizer.fit_on_texts(train_captions)\n",
        "train_seqs = tokenizer.texts_to_sequences(train_captions)\n",
        "\n",
        "tokenizer.word_index['<pad>'] = 0\n",
        "tokenizer.index_word[0] = '<pad>'\n",
        "\n",
        "train_seqs = tokenizer.texts_to_sequences(train_captions)\n",
        "\n",
        "cap_vector = tf.keras.preprocessing.sequence.pad_sequences(train_seqs, padding='post')"
      ],
      "execution_count": 8,
      "outputs": []
    },
    {
      "cell_type": "code",
      "metadata": {
        "id": "IkfQ8p2_SHZR"
      },
      "source": [
        "def decode_sequence(encoded_text):\n",
        "  lst = []\n",
        "  for i in encoded_text[0]:\n",
        "    lst.append(tokenizer.index_word[i])\n",
        "  return ' '.join(lst)"
      ],
      "execution_count": 9,
      "outputs": []
    },
    {
      "cell_type": "code",
      "metadata": {
        "id": "GWM_Sa9JSfvt"
      },
      "source": [
        "def tokenize_sequence(sequence):\n",
        "  return tokenizer.texts_to_sequences(sequence)"
      ],
      "execution_count": 10,
      "outputs": []
    },
    {
      "cell_type": "code",
      "metadata": {
        "id": "Zx69dTFHuBIh"
      },
      "source": [
        "import tensorflow as tf\n",
        "from tensorflow.keras.layers import Dense,Reshape,Dropout,LeakyReLU,Flatten,BatchNormalization,Conv2D,Conv2DTranspose\n",
        "from tensorflow.keras.models import Sequential"
      ],
      "execution_count": 11,
      "outputs": []
    },
    {
      "cell_type": "code",
      "metadata": {
        "id": "uUobSJNpuBP6"
      },
      "source": [
        "generator = Sequential()\n",
        "generator.add(Dense(7*7*256, use_bias=False, input_shape=(47,)))\n",
        "generator.add(BatchNormalization())\n",
        "generator.add(LeakyReLU())\n",
        "\n",
        "generator.add(Reshape((7, 7, 256)))\n",
        "assert generator.output_shape == (None, 7, 7, 256) # Note: None is the batch size\n",
        "\n",
        "generator.add(Conv2DTranspose(128, (5, 5), strides=(1, 1), padding='same', use_bias=False))\n",
        "assert generator.output_shape == (None, 7, 7, 128)\n",
        "generator.add(BatchNormalization())\n",
        "generator.add(LeakyReLU())\n",
        "\n",
        "generator.add(Conv2DTranspose(64, (5, 5), strides=(2, 2), padding='same', use_bias=False))\n",
        "assert generator.output_shape == (None, 14, 14, 64)\n",
        "generator.add(BatchNormalization())\n",
        "generator.add(LeakyReLU())\n",
        "\n",
        "generator.add(Conv2DTranspose(1, (5, 5), strides=(2, 2), padding='same', use_bias=False, activation='tanh'))\n",
        "assert generator.output_shape == (None, 28, 28, 1)"
      ],
      "execution_count": 12,
      "outputs": []
    },
    {
      "cell_type": "code",
      "metadata": {
        "id": "k5DyMmNDuBU9"
      },
      "source": [
        "discriminator = Sequential()\n",
        "discriminator.add(Conv2D(64, kernel_size=5, strides=2, padding=\"same\",\n",
        "                        activation=LeakyReLU(0.3),\n",
        "                        input_shape=[28, 28, 1]))\n",
        "discriminator.add(Dropout(0.5))\n",
        "discriminator.add(Conv2D(128, kernel_size=5, strides=2, padding=\"same\",\n",
        "                        activation=LeakyReLU(0.3)))\n",
        "discriminator.add(Dropout(0.5))\n",
        "discriminator.add(Flatten())\n",
        "discriminator.add(Dense(1, activation=\"sigmoid\"))"
      ],
      "execution_count": 13,
      "outputs": []
    },
    {
      "cell_type": "code",
      "metadata": {
        "id": "cCayetVKuBaE"
      },
      "source": [
        "GAN = Sequential([generator, discriminator])"
      ],
      "execution_count": 14,
      "outputs": []
    },
    {
      "cell_type": "code",
      "metadata": {
        "id": "TmU7TUpCuBdO"
      },
      "source": [
        "discriminator.compile(loss=\"binary_crossentropy\", optimizer=\"adam\")\n",
        "discriminator.trainable = False"
      ],
      "execution_count": 15,
      "outputs": []
    },
    {
      "cell_type": "code",
      "metadata": {
        "id": "cCnBMCqIuQDD"
      },
      "source": [
        "GAN.compile(loss=\"binary_crossentropy\", optimizer=\"adam\")"
      ],
      "execution_count": 16,
      "outputs": []
    },
    {
      "cell_type": "code",
      "metadata": {
        "id": "vhOnRkqBuQFi"
      },
      "source": [
        ""
      ],
      "execution_count": null,
      "outputs": []
    },
    {
      "cell_type": "code",
      "metadata": {
        "id": "jSM3nLa9uQIG"
      },
      "source": [
        ""
      ],
      "execution_count": null,
      "outputs": []
    },
    {
      "cell_type": "code",
      "metadata": {
        "id": "N5d9J_asuQKT"
      },
      "source": [
        ""
      ],
      "execution_count": null,
      "outputs": []
    },
    {
      "cell_type": "code",
      "metadata": {
        "colab": {
          "base_uri": "https://localhost:8080/",
          "height": 1000
        },
        "id": "n_B-8PLkiR6c",
        "outputId": "820bacc0-4387-4f3f-b7e7-93b3e6481dcb"
      },
      "source": [
        "from PIL import Image\n",
        "\n",
        "epochs = 1\n",
        "batch_size = 10000\n",
        "WIDTH, HEIGHT = 28, 28\n",
        "\n",
        "device_name = tf.test.gpu_device_name()\n",
        "if device_name != '/device:GPU:0':\n",
        "    raise SystemError('GPU device not found')\n",
        "print('Found GPU at: {}'.format(device_name))\n",
        "\n",
        "with tf.device('/device:GPU:0'):\n",
        "  for epoch in range(1,epochs + 1):\n",
        "    print(f'Epoch {epoch}/{epochs}')\n",
        "    batch_no = 1\n",
        "    train_captions, train_images = list(), list()\n",
        "    import time as t\n",
        "    t1 = t.time()\n",
        "    for batch_captions, batch_images in zip(cap_vector, img_name_vector):\n",
        "      if len(train_captions) < batch_size and len(train_images) < batch_size:\n",
        "        train_captions.append(batch_captions)\n",
        "        img = Image.open(batch_images).convert('L')\n",
        "        resized_img = img.resize((WIDTH, HEIGHT))\n",
        "        normalized_img = np.array(resized_img) / 255\n",
        "        train_images.append(normalized_img.reshape(WIDTH, HEIGHT,1))\n",
        "\n",
        "      else:\n",
        "        captions = np.array(train_captions)\n",
        "        print(captions.shape)\n",
        "        print(f'bacth number : {batch_no}')\n",
        "\n",
        "        gen_images = generator(captions)\n",
        "\n",
        "        X_fake_vs_real = tf.concat([gen_images, tf.dtypes.cast(train_images,tf.float32)], axis=0)\n",
        "        \n",
        "        y1 = tf.constant([[0.]] * batch_size + [[1.]] * batch_size)\n",
        "        \n",
        "        discriminator.trainable = True\n",
        "        \n",
        "        discriminator.train_on_batch(X_fake_vs_real, y1)\n",
        "        \n",
        "        y2 = tf.constant([[1.]] * batch_size)\n",
        "        \n",
        "        discriminator.trainable = False\n",
        "        \n",
        "        GAN.train_on_batch(captions, y2)\n",
        "\n",
        "        train_captions.clear()\n",
        "        train_images.clear()\n",
        "        print(len(train_captions),len(train_images))\n",
        "        batch_no += 1\n",
        "        t2 = t.time()\n",
        "        print(t2-t1)"
      ],
      "execution_count": 29,
      "outputs": [
        {
          "output_type": "stream",
          "text": [
            "Found GPU at: /device:GPU:0\n",
            "Epoch 1/1\n",
            "(100, 47)\n",
            "bacth number : 1\n",
            "0 0\n",
            "2.2793710231781006\n",
            "(100, 47)\n",
            "bacth number : 2\n",
            "0 0\n",
            "3.0291318893432617\n",
            "(100, 47)\n",
            "bacth number : 3\n",
            "0 0\n",
            "3.835653781890869\n",
            "(100, 47)\n",
            "bacth number : 4\n",
            "0 0\n",
            "4.656109571456909\n",
            "(100, 47)\n",
            "bacth number : 5\n",
            "0 0\n",
            "5.4295055866241455\n",
            "(100, 47)\n",
            "bacth number : 6\n",
            "0 0\n",
            "6.234215974807739\n",
            "(100, 47)\n",
            "bacth number : 7\n",
            "0 0\n",
            "7.035911321640015\n",
            "(100, 47)\n",
            "bacth number : 8\n",
            "0 0\n",
            "7.861117362976074\n",
            "(100, 47)\n",
            "bacth number : 9\n",
            "0 0\n",
            "8.721991539001465\n",
            "(100, 47)\n",
            "bacth number : 10\n",
            "0 0\n",
            "9.491224765777588\n",
            "(100, 47)\n",
            "bacth number : 11\n",
            "0 0\n",
            "10.313236951828003\n",
            "(100, 47)\n",
            "bacth number : 12\n",
            "0 0\n",
            "11.088560581207275\n",
            "(100, 47)\n",
            "bacth number : 13\n",
            "0 0\n",
            "11.910758018493652\n",
            "(100, 47)\n",
            "bacth number : 14\n",
            "0 0\n",
            "12.702704668045044\n",
            "(100, 47)\n",
            "bacth number : 15\n",
            "0 0\n",
            "13.522661685943604\n",
            "(100, 47)\n",
            "bacth number : 16\n",
            "0 0\n",
            "14.340317010879517\n",
            "(100, 47)\n",
            "bacth number : 17\n",
            "0 0\n",
            "15.165721893310547\n",
            "(100, 47)\n",
            "bacth number : 18\n",
            "0 0\n",
            "15.974199533462524\n",
            "(100, 47)\n",
            "bacth number : 19\n",
            "0 0\n",
            "16.868754625320435\n",
            "(100, 47)\n",
            "bacth number : 20\n",
            "0 0\n",
            "17.746707677841187\n",
            "(100, 47)\n",
            "bacth number : 21\n",
            "0 0\n",
            "18.61432385444641\n",
            "(100, 47)\n",
            "bacth number : 22\n",
            "0 0\n",
            "19.444347381591797\n",
            "(100, 47)\n",
            "bacth number : 23\n",
            "0 0\n",
            "20.222887992858887\n",
            "(100, 47)\n",
            "bacth number : 24\n",
            "0 0\n",
            "21.03642773628235\n",
            "(100, 47)\n",
            "bacth number : 25\n",
            "0 0\n",
            "21.865713596343994\n",
            "(100, 47)\n",
            "bacth number : 26\n",
            "0 0\n",
            "22.70884895324707\n",
            "(100, 47)\n",
            "bacth number : 27\n",
            "0 0\n",
            "23.455094575881958\n",
            "(100, 47)\n",
            "bacth number : 28\n",
            "0 0\n",
            "24.24687647819519\n",
            "(100, 47)\n",
            "bacth number : 29\n",
            "0 0\n",
            "25.089792490005493\n",
            "(100, 47)\n",
            "bacth number : 30\n",
            "0 0\n",
            "25.813961029052734\n",
            "(100, 47)\n",
            "bacth number : 31\n",
            "0 0\n",
            "26.64404010772705\n",
            "(100, 47)\n",
            "bacth number : 32\n",
            "0 0\n",
            "27.43505024909973\n",
            "(100, 47)\n",
            "bacth number : 33\n",
            "0 0\n",
            "28.24970817565918\n",
            "(100, 47)\n",
            "bacth number : 34\n",
            "0 0\n",
            "29.012428998947144\n",
            "(100, 47)\n",
            "bacth number : 35\n",
            "0 0\n",
            "29.835954427719116\n",
            "(100, 47)\n",
            "bacth number : 36\n",
            "0 0\n",
            "30.62732744216919\n",
            "(100, 47)\n",
            "bacth number : 37\n",
            "0 0\n",
            "31.400488138198853\n",
            "(100, 47)\n",
            "bacth number : 38\n",
            "0 0\n",
            "32.21098566055298\n",
            "(100, 47)\n",
            "bacth number : 39\n",
            "0 0\n",
            "33.03214454650879\n",
            "(100, 47)\n",
            "bacth number : 40\n",
            "0 0\n",
            "33.81100344657898\n",
            "(100, 47)\n",
            "bacth number : 41\n",
            "0 0\n",
            "34.584474086761475\n",
            "(100, 47)\n",
            "bacth number : 42\n",
            "0 0\n",
            "35.421955823898315\n",
            "(100, 47)\n",
            "bacth number : 43\n",
            "0 0\n",
            "36.260125398635864\n",
            "(100, 47)\n",
            "bacth number : 44\n",
            "0 0\n",
            "37.07480716705322\n",
            "(100, 47)\n",
            "bacth number : 45\n",
            "0 0\n",
            "37.85046577453613\n",
            "(100, 47)\n",
            "bacth number : 46\n",
            "0 0\n",
            "38.69047236442566\n",
            "(100, 47)\n",
            "bacth number : 47\n",
            "0 0\n",
            "39.531805992126465\n"
          ],
          "name": "stdout"
        },
        {
          "output_type": "error",
          "ename": "KeyboardInterrupt",
          "evalue": "ignored",
          "traceback": [
            "\u001b[0;31m---------------------------------------------------------------------------\u001b[0m",
            "\u001b[0;31mKeyboardInterrupt\u001b[0m                         Traceback (most recent call last)",
            "\u001b[0;32m<ipython-input-29-3e039680413c>\u001b[0m in \u001b[0;36m<module>\u001b[0;34m()\u001b[0m\n\u001b[1;32m     20\u001b[0m       \u001b[0;32mif\u001b[0m \u001b[0mlen\u001b[0m\u001b[0;34m(\u001b[0m\u001b[0mtrain_captions\u001b[0m\u001b[0;34m)\u001b[0m \u001b[0;34m<\u001b[0m \u001b[0mbatch_size\u001b[0m \u001b[0;32mand\u001b[0m \u001b[0mlen\u001b[0m\u001b[0;34m(\u001b[0m\u001b[0mtrain_images\u001b[0m\u001b[0;34m)\u001b[0m \u001b[0;34m<\u001b[0m \u001b[0mbatch_size\u001b[0m\u001b[0;34m:\u001b[0m\u001b[0;34m\u001b[0m\u001b[0;34m\u001b[0m\u001b[0m\n\u001b[1;32m     21\u001b[0m         \u001b[0mtrain_captions\u001b[0m\u001b[0;34m.\u001b[0m\u001b[0mappend\u001b[0m\u001b[0;34m(\u001b[0m\u001b[0mbatch_captions\u001b[0m\u001b[0;34m)\u001b[0m\u001b[0;34m\u001b[0m\u001b[0;34m\u001b[0m\u001b[0m\n\u001b[0;32m---> 22\u001b[0;31m         \u001b[0mimg\u001b[0m \u001b[0;34m=\u001b[0m \u001b[0mImage\u001b[0m\u001b[0;34m.\u001b[0m\u001b[0mopen\u001b[0m\u001b[0;34m(\u001b[0m\u001b[0mbatch_images\u001b[0m\u001b[0;34m)\u001b[0m\u001b[0;34m.\u001b[0m\u001b[0mconvert\u001b[0m\u001b[0;34m(\u001b[0m\u001b[0;34m'L'\u001b[0m\u001b[0;34m)\u001b[0m\u001b[0;34m\u001b[0m\u001b[0;34m\u001b[0m\u001b[0m\n\u001b[0m\u001b[1;32m     23\u001b[0m         \u001b[0mresized_img\u001b[0m \u001b[0;34m=\u001b[0m \u001b[0mimg\u001b[0m\u001b[0;34m.\u001b[0m\u001b[0mresize\u001b[0m\u001b[0;34m(\u001b[0m\u001b[0;34m(\u001b[0m\u001b[0mWIDTH\u001b[0m\u001b[0;34m,\u001b[0m \u001b[0mHEIGHT\u001b[0m\u001b[0;34m)\u001b[0m\u001b[0;34m)\u001b[0m\u001b[0;34m\u001b[0m\u001b[0;34m\u001b[0m\u001b[0m\n\u001b[1;32m     24\u001b[0m         \u001b[0mnormalized_img\u001b[0m \u001b[0;34m=\u001b[0m \u001b[0mnp\u001b[0m\u001b[0;34m.\u001b[0m\u001b[0marray\u001b[0m\u001b[0;34m(\u001b[0m\u001b[0mresized_img\u001b[0m\u001b[0;34m)\u001b[0m \u001b[0;34m/\u001b[0m \u001b[0;36m255\u001b[0m\u001b[0;34m\u001b[0m\u001b[0;34m\u001b[0m\u001b[0m\n",
            "\u001b[0;32m/usr/local/lib/python3.6/dist-packages/PIL/Image.py\u001b[0m in \u001b[0;36mconvert\u001b[0;34m(self, mode, matrix, dither, palette, colors)\u001b[0m\n\u001b[1;32m    871\u001b[0m         \"\"\"\n\u001b[1;32m    872\u001b[0m \u001b[0;34m\u001b[0m\u001b[0m\n\u001b[0;32m--> 873\u001b[0;31m         \u001b[0mself\u001b[0m\u001b[0;34m.\u001b[0m\u001b[0mload\u001b[0m\u001b[0;34m(\u001b[0m\u001b[0;34m)\u001b[0m\u001b[0;34m\u001b[0m\u001b[0;34m\u001b[0m\u001b[0m\n\u001b[0m\u001b[1;32m    874\u001b[0m \u001b[0;34m\u001b[0m\u001b[0m\n\u001b[1;32m    875\u001b[0m         \u001b[0;32mif\u001b[0m \u001b[0;32mnot\u001b[0m \u001b[0mmode\u001b[0m \u001b[0;32mand\u001b[0m \u001b[0mself\u001b[0m\u001b[0;34m.\u001b[0m\u001b[0mmode\u001b[0m \u001b[0;34m==\u001b[0m \u001b[0;34m\"P\"\u001b[0m\u001b[0;34m:\u001b[0m\u001b[0;34m\u001b[0m\u001b[0;34m\u001b[0m\u001b[0m\n",
            "\u001b[0;32m/usr/local/lib/python3.6/dist-packages/PIL/ImageFile.py\u001b[0m in \u001b[0;36mload\u001b[0;34m(self)\u001b[0m\n\u001b[1;32m    249\u001b[0m \u001b[0;34m\u001b[0m\u001b[0m\n\u001b[1;32m    250\u001b[0m                             \u001b[0mb\u001b[0m \u001b[0;34m=\u001b[0m \u001b[0mb\u001b[0m \u001b[0;34m+\u001b[0m \u001b[0ms\u001b[0m\u001b[0;34m\u001b[0m\u001b[0;34m\u001b[0m\u001b[0m\n\u001b[0;32m--> 251\u001b[0;31m                             \u001b[0mn\u001b[0m\u001b[0;34m,\u001b[0m \u001b[0merr_code\u001b[0m \u001b[0;34m=\u001b[0m \u001b[0mdecoder\u001b[0m\u001b[0;34m.\u001b[0m\u001b[0mdecode\u001b[0m\u001b[0;34m(\u001b[0m\u001b[0mb\u001b[0m\u001b[0;34m)\u001b[0m\u001b[0;34m\u001b[0m\u001b[0;34m\u001b[0m\u001b[0m\n\u001b[0m\u001b[1;32m    252\u001b[0m                             \u001b[0;32mif\u001b[0m \u001b[0mn\u001b[0m \u001b[0;34m<\u001b[0m \u001b[0;36m0\u001b[0m\u001b[0;34m:\u001b[0m\u001b[0;34m\u001b[0m\u001b[0;34m\u001b[0m\u001b[0m\n\u001b[1;32m    253\u001b[0m                                 \u001b[0;32mbreak\u001b[0m\u001b[0;34m\u001b[0m\u001b[0;34m\u001b[0m\u001b[0m\n",
            "\u001b[0;31mKeyboardInterrupt\u001b[0m: "
          ]
        }
      ]
    },
    {
      "cell_type": "code",
      "metadata": {
        "colab": {
          "base_uri": "https://localhost:8080/",
          "height": 198
        },
        "id": "KcxpDFRDl0qn",
        "outputId": "842244ce-0663-4995-cd22-d614a2854f12"
      },
      "source": [
        "plt.imshow(train_images[1].shape(28,28))\n",
        "print(len(train_images))\n",
        "print(decode_sequence([train_captions[123]]))"
      ],
      "execution_count": 33,
      "outputs": [
        {
          "output_type": "error",
          "ename": "TypeError",
          "evalue": "ignored",
          "traceback": [
            "\u001b[0;31m---------------------------------------------------------------------------\u001b[0m",
            "\u001b[0;31mTypeError\u001b[0m                                 Traceback (most recent call last)",
            "\u001b[0;32m<ipython-input-33-04fda62a5a8e>\u001b[0m in \u001b[0;36m<module>\u001b[0;34m()\u001b[0m\n\u001b[0;32m----> 1\u001b[0;31m \u001b[0mplt\u001b[0m\u001b[0;34m.\u001b[0m\u001b[0mimshow\u001b[0m\u001b[0;34m(\u001b[0m\u001b[0mtrain_images\u001b[0m\u001b[0;34m[\u001b[0m\u001b[0;36m1\u001b[0m\u001b[0;34m]\u001b[0m\u001b[0;34m.\u001b[0m\u001b[0mshape\u001b[0m\u001b[0;34m(\u001b[0m\u001b[0;36m28\u001b[0m\u001b[0;34m,\u001b[0m\u001b[0;36m28\u001b[0m\u001b[0;34m)\u001b[0m\u001b[0;34m)\u001b[0m\u001b[0;34m\u001b[0m\u001b[0;34m\u001b[0m\u001b[0m\n\u001b[0m\u001b[1;32m      2\u001b[0m \u001b[0mprint\u001b[0m\u001b[0;34m(\u001b[0m\u001b[0mlen\u001b[0m\u001b[0;34m(\u001b[0m\u001b[0mtrain_images\u001b[0m\u001b[0;34m)\u001b[0m\u001b[0;34m)\u001b[0m\u001b[0;34m\u001b[0m\u001b[0;34m\u001b[0m\u001b[0m\n\u001b[1;32m      3\u001b[0m \u001b[0mprint\u001b[0m\u001b[0;34m(\u001b[0m\u001b[0mdecode_sequence\u001b[0m\u001b[0;34m(\u001b[0m\u001b[0;34m[\u001b[0m\u001b[0mtrain_captions\u001b[0m\u001b[0;34m[\u001b[0m\u001b[0;36m123\u001b[0m\u001b[0;34m]\u001b[0m\u001b[0;34m]\u001b[0m\u001b[0;34m)\u001b[0m\u001b[0;34m)\u001b[0m\u001b[0;34m\u001b[0m\u001b[0;34m\u001b[0m\u001b[0m\n",
            "\u001b[0;31mTypeError\u001b[0m: 'tuple' object is not callable"
          ]
        }
      ]
    },
    {
      "cell_type": "code",
      "metadata": {
        "id": "syuDcrFtFVxw"
      },
      "source": [
        ""
      ],
      "execution_count": null,
      "outputs": []
    }
  ]
}